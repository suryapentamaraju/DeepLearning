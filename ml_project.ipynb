{
 "cells": [
  {
   "cell_type": "markdown",
   "metadata": {},
   "source": [
    "imports "
   ]
  },
  {
   "cell_type": "code",
   "execution_count": 2,
   "metadata": {},
   "outputs": [],
   "source": [
    "import pandas as pd\n",
    "from sklearn.model_selection import train_test_split\n",
    "from sklearn.tree import DecisionTreeClassifier\n",
    "from sklearn.ensemble import RandomForestClassifier\n",
    "from sklearn.neighbors import KNeighborsClassifier\n",
    "from sklearn.metrics import accuracy_score, classification_report\n",
    "from sklearn.model_selection import GridSearchCV\n",
    "from sklearn.impute import SimpleImputer"
   ]
  },
  {
   "cell_type": "markdown",
   "metadata": {},
   "source": [
    "\n",
    "Step 1: Data Attributes Identification & Data Collection"
   ]
  },
  {
   "cell_type": "code",
   "execution_count": 3,
   "metadata": {},
   "outputs": [
    {
     "name": "stdout",
     "output_type": "stream",
     "text": [
      "Data loaded successfully.\n"
     ]
    }
   ],
   "source": [
    "df = pd.read_csv('/Users/shashi/Desktop/ML/ ML_lab_me/student_dataset_copy.csv')\n",
    "print(\"Data loaded successfully.\")"
   ]
  },
  {
   "cell_type": "markdown",
   "metadata": {},
   "source": [
    "Step 2: Data Pre-Processing"
   ]
  },
  {
   "cell_type": "code",
   "execution_count": 4,
   "metadata": {},
   "outputs": [
    {
     "name": "stdout",
     "output_type": "stream",
     "text": [
      "Student Name      0\n",
      "Student ID        1\n",
      "Year              2\n",
      "IOT               0\n",
      "CTSD              1\n",
      "DS                1\n",
      "OOPS              0\n",
      "DTI               1\n",
      "COA               1\n",
      "DBMS              2\n",
      "PFSD              0\n",
      "MPC               0\n",
      "ASE               1\n",
      "OS                1\n",
      "Specialization    1\n",
      "dtype: int64\n"
     ]
    }
   ],
   "source": [
    "# Check for null values in the dataset\n",
    "print(df.isnull().sum())\n"
   ]
  },
  {
   "cell_type": "code",
   "execution_count": 5,
   "metadata": {},
   "outputs": [
    {
     "name": "stdout",
     "output_type": "stream",
     "text": [
      "\n",
      "Null values after filling with mean:\n",
      "Student Name      0\n",
      "Student ID        0\n",
      "Year              0\n",
      "IOT               0\n",
      "CTSD              1\n",
      "DS                1\n",
      "OOPS              0\n",
      "DTI               1\n",
      "COA               0\n",
      "DBMS              2\n",
      "PFSD              0\n",
      "MPC               0\n",
      "ASE               1\n",
      "OS                0\n",
      "Specialization    1\n",
      "dtype: int64\n"
     ]
    }
   ],
   "source": [
    "\n",
    "# Select only numeric columns\n",
    "numeric_cols = df.select_dtypes(include=['number']).columns\n",
    "\n",
    "# Fill null values with the mean for numerical columns only\n",
    "df[numeric_cols] = df[numeric_cols].fillna(df[numeric_cols].mean())\n",
    "\n",
    "# Check the results\n",
    "print(\"\\nNull values after filling with mean:\")\n",
    "print(df.isnull().sum())  # Should show no null values for numeric columns"
   ]
  },
  {
   "cell_type": "code",
   "execution_count": 6,
   "metadata": {},
   "outputs": [
    {
     "name": "stdout",
     "output_type": "stream",
     "text": [
      "Data preprocessing completed.\n"
     ]
    }
   ],
   "source": [
    "# numeric_cols = df.select_dtypes(include=['number']).columns\n",
    "# df[numeric_cols] = df[numeric_cols].fillna(df[numeric_cols].mean())\n",
    "columns_to_convert = ['IOT', 'CTSD', 'DS', 'OOPS', 'DTI', 'COA', 'DBMS', 'PFSD', 'MPC', 'ASE', 'OS']\n",
    "df[columns_to_convert] = df[columns_to_convert].apply(pd.to_numeric, errors='coerce')\n",
    "df_cleaned = df.dropna()\n",
    "print(\"Data preprocessing completed.\")"
   ]
  },
  {
   "cell_type": "code",
   "execution_count": 7,
   "metadata": {},
   "outputs": [
    {
     "name": "stdout",
     "output_type": "stream",
     "text": [
      "  Student Name  Student ID  Year  IOT  CTSD    DS  OOPS  DTI   COA  DBMS  \\\n",
      "0    Student_1      1000.0   1.0  7.0   8.0   9.0   6.0  8.0   7.0   8.0   \n",
      "1    Student_2      1001.0   2.0  6.0   8.0  10.0   6.0  9.0   7.0   7.0   \n",
      "2    Student_3      1002.0   2.0  8.0  10.0   7.0   7.0  7.0   7.0   8.0   \n",
      "3    Student_4      1003.0   1.0  9.0   6.0   6.0   8.0  9.0   7.0  10.0   \n",
      "4    Student_5      1004.0   1.0  6.0   8.0   8.0  10.0  7.0  10.0   9.0   \n",
      "\n",
      "   PFSD  MPC   ASE   OS  Specialization  \n",
      "0   6.0    6   8.0  8.0          AI-IPA  \n",
      "1   6.0   10   6.0  8.0           Cloud  \n",
      "2   6.0   10  10.0  9.0  Cyber Security  \n",
      "3   6.0    7   8.0  7.0  Cyber Security  \n",
      "4  10.0    8   8.0  9.0           Cloud  \n"
     ]
    }
   ],
   "source": [
    "print(df_cleaned.head())    "
   ]
  },
  {
   "cell_type": "markdown",
   "metadata": {},
   "source": [
    "Step 3: Feature Engineering"
   ]
  },
  {
   "cell_type": "code",
   "execution_count": 8,
   "metadata": {},
   "outputs": [
    {
     "name": "stdout",
     "output_type": "stream",
     "text": [
      "Feature engineering completed.\n"
     ]
    }
   ],
   "source": [
    "X = df_cleaned.drop(columns=['Student Name', 'Student ID', 'Specialization'])\n",
    "y = df_cleaned['Specialization']\n",
    "print(\"Feature engineering completed.\")"
   ]
  },
  {
   "cell_type": "markdown",
   "metadata": {},
   "source": [
    "\n",
    " Step 4: Training and Testing Data Split"
   ]
  },
  {
   "cell_type": "code",
   "execution_count": 9,
   "metadata": {},
   "outputs": [
    {
     "name": "stdout",
     "output_type": "stream",
     "text": [
      "Data split into training and testing sets.\n"
     ]
    }
   ],
   "source": [
    "X_train, X_test, y_train, y_test = train_test_split(X, y, test_size=0.2, random_state=42)\n",
    "print(\"Data split into training and testing sets.\")"
   ]
  },
  {
   "cell_type": "code",
   "execution_count": 10,
   "metadata": {},
   "outputs": [
    {
     "name": "stdout",
     "output_type": "stream",
     "text": [
      "Train set size: 39982\n",
      "Test set size: 9996\n"
     ]
    }
   ],
   "source": [
    "print(f'Train set size: {X_train.shape[0]}')\n",
    "print(f'Test set size: {X_test.shape[0]}')"
   ]
  },
  {
   "cell_type": "code",
   "execution_count": 11,
   "metadata": {},
   "outputs": [
    {
     "name": "stdout",
     "output_type": "stream",
     "text": [
      "\n",
      "Training Features (X_train):\n",
      "       Year   IOT  CTSD    DS  OOPS   DTI   COA  DBMS  PFSD  MPC   ASE    OS\n",
      "47288   2.0   8.0   6.0   9.0   8.0   8.0   6.0   7.0   9.0    8   8.0  10.0\n",
      "30262   1.0  10.0   8.0  10.0   8.0   8.0   6.0   9.0   6.0    6   6.0   6.0\n",
      "26514   1.0   6.0   6.0   9.0   6.0   8.0   7.0   9.0   9.0   10   8.0  10.0\n",
      "18137   2.0   8.0   7.0   7.0   8.0   7.0   8.0   9.0   8.0    6  10.0   7.0\n",
      "24082   2.0   9.0   9.0   9.0   8.0   9.0  10.0   7.0   9.0    7   9.0   9.0\n",
      "...     ...   ...   ...   ...   ...   ...   ...   ...   ...  ...   ...   ...\n",
      "11306   1.0   6.0   9.0   8.0   8.0  10.0   6.0   9.0   9.0    8   6.0   9.0\n",
      "44754   2.0   6.0   6.0   6.0   7.0   6.0   6.0   6.0  10.0   10   6.0   7.0\n",
      "38180   2.0  10.0   9.0   8.0   9.0   6.0   6.0   6.0   8.0   10   7.0   7.0\n",
      "873     2.0   9.0  10.0   8.0   7.0   8.0   9.0   8.0   6.0    6   6.0   7.0\n",
      "15817   1.0  10.0   7.0   9.0  10.0   9.0   7.0   6.0  10.0    9   7.0   7.0\n",
      "\n",
      "[39982 rows x 12 columns]\n",
      "\n",
      "Training Target (y_train):\n",
      "47288             Cloud\n",
      "30262             Cloud\n",
      "26514            AI-IPA\n",
      "18137            AI-IPA\n",
      "24082    Cyber Security\n",
      "              ...      \n",
      "11306             Cloud\n",
      "44754            AI-IPA\n",
      "38180    Cyber Security\n",
      "873              AI-IPA\n",
      "15817             Cloud\n",
      "Name: Specialization, Length: 39982, dtype: object\n",
      "\n",
      "Testing Features (X_test):\n",
      "       Year   IOT  CTSD    DS  OOPS   DTI   COA  DBMS  PFSD  MPC   ASE    OS\n",
      "38298   1.0  10.0  10.0   9.0   6.0   9.0   8.0   9.0   6.0   10   9.0  10.0\n",
      "44892   2.0  10.0   7.0  10.0   8.0   6.0   7.0   6.0  10.0   10   9.0  10.0\n",
      "34677   1.0   6.0   7.0   6.0   6.0  10.0   6.0   9.0   8.0   10   7.0  10.0\n",
      "39196   2.0   6.0   9.0   8.0  10.0   7.0   9.0   9.0   8.0   10  10.0   9.0\n",
      "20275   1.0  10.0   8.0   7.0   7.0   6.0  10.0   7.0  10.0    8   6.0   9.0\n",
      "...     ...   ...   ...   ...   ...   ...   ...   ...   ...  ...   ...   ...\n",
      "39090   2.0   6.0   8.0   6.0   8.0   7.0   9.0   6.0   6.0    9   8.0   7.0\n",
      "34670   2.0   8.0   6.0   8.0   7.0  10.0   6.0   7.0   7.0    6   8.0   7.0\n",
      "46574   2.0   6.0   7.0   8.0   7.0   6.0   8.0   6.0   8.0   10   9.0   7.0\n",
      "16408   2.0   7.0   8.0   6.0   7.0   9.0   6.0  10.0   9.0    9   6.0   6.0\n",
      "12608   1.0   6.0   7.0   8.0   6.0   6.0   9.0   8.0  10.0    8   6.0   8.0\n",
      "\n",
      "[9996 rows x 12 columns]\n",
      "\n",
      "Testing Target (y_test):\n",
      "38298             Cloud\n",
      "44892             Cloud\n",
      "34677    Cyber Security\n",
      "39196            AI-IPA\n",
      "20275             Cloud\n",
      "              ...      \n",
      "39090             Cloud\n",
      "34670            AI-IPA\n",
      "46574            AI-IPA\n",
      "16408    Cyber Security\n",
      "12608             Cloud\n",
      "Name: Specialization, Length: 9996, dtype: object\n"
     ]
    }
   ],
   "source": [
    "print(\"\\nTraining Features (X_train):\")\n",
    "print(X_train)\n",
    "print(\"\\nTraining Target (y_train):\")\n",
    "print(y_train)\n",
    "print(\"\\nTesting Features (X_test):\")\n",
    "print(X_test)\n",
    "print(\"\\nTesting Target (y_test):\")\n",
    "print(y_test)"
   ]
  },
  {
   "cell_type": "markdown",
   "metadata": {},
   "source": [
    "Step 5: Choose Appropriate ML Algorithms"
   ]
  },
  {
   "cell_type": "code",
   "execution_count": 12,
   "metadata": {},
   "outputs": [
    {
     "name": "stdout",
     "output_type": "stream",
     "text": [
      "Models selected.\n"
     ]
    }
   ],
   "source": [
    "models = {\n",
    "    \"Decision Tree\": DecisionTreeClassifier(),\n",
    "    \"Random Forest\": RandomForestClassifier(),\n",
    "    \"K-Nearest Neighbors\": KNeighborsClassifier()\n",
    "}\n",
    "print(\"Models selected.\")"
   ]
  },
  {
   "cell_type": "markdown",
   "metadata": {},
   "source": [
    "\n",
    "Step 6: Build ML Model with Training Data"
   ]
  },
  {
   "cell_type": "code",
   "execution_count": 13,
   "metadata": {},
   "outputs": [
    {
     "name": "stdout",
     "output_type": "stream",
     "text": [
      "Decision Tree model trained successfully.\n",
      "Random Forest model trained successfully.\n",
      "K-Nearest Neighbors model trained successfully.\n"
     ]
    }
   ],
   "source": [
    "trained_models = {}\n",
    "for name, model in models.items():\n",
    "    model.fit(X_train, y_train)\n",
    "    trained_models[name] = model\n",
    "    print(f\"{name} model trained successfully.\")"
   ]
  },
  {
   "cell_type": "markdown",
   "metadata": {},
   "source": [
    "Step 7: Evaluate Model with Testing Data"
   ]
  },
  {
   "cell_type": "code",
   "execution_count": 14,
   "metadata": {},
   "outputs": [
    {
     "name": "stdout",
     "output_type": "stream",
     "text": [
      "Decision Tree Accuracy: 0.33\n",
      "Random Forest Accuracy: 0.33\n",
      "K-Nearest Neighbors Accuracy: 0.34\n"
     ]
    }
   ],
   "source": [
    "for name, model in trained_models.items():\n",
    "    y_pred = model.predict(X_test)\n",
    "    accuracy = accuracy_score(y_test, y_pred)\n",
    "    print(f\"{name} Accuracy: {accuracy:.2f}\")"
   ]
  },
  {
   "cell_type": "markdown",
   "metadata": {},
   "source": [
    "Step 8: Compute Performance Metrics"
   ]
  },
  {
   "cell_type": "code",
   "execution_count": 15,
   "metadata": {},
   "outputs": [
    {
     "name": "stdout",
     "output_type": "stream",
     "text": [
      "Performance metrics for Decision Tree:\n",
      "\n",
      "                precision    recall  f1-score   support\n",
      "\n",
      "        AI-IPA       0.32      0.33      0.32      3258\n",
      "         Cloud       0.34      0.33      0.33      3366\n",
      "Cyber Security       0.33      0.32      0.33      3372\n",
      "\n",
      "      accuracy                           0.33      9996\n",
      "     macro avg       0.33      0.33      0.33      9996\n",
      "  weighted avg       0.33      0.33      0.33      9996\n",
      "\n",
      "Performance metrics for Random Forest:\n",
      "\n",
      "                precision    recall  f1-score   support\n",
      "\n",
      "        AI-IPA       0.33      0.35      0.34      3258\n",
      "         Cloud       0.33      0.33      0.33      3366\n",
      "Cyber Security       0.34      0.33      0.33      3372\n",
      "\n",
      "      accuracy                           0.33      9996\n",
      "     macro avg       0.33      0.33      0.33      9996\n",
      "  weighted avg       0.33      0.33      0.33      9996\n",
      "\n",
      "Performance metrics for K-Nearest Neighbors:\n",
      "\n",
      "                precision    recall  f1-score   support\n",
      "\n",
      "        AI-IPA       0.34      0.47      0.39      3258\n",
      "         Cloud       0.34      0.34      0.34      3366\n",
      "Cyber Security       0.33      0.21      0.26      3372\n",
      "\n",
      "      accuracy                           0.34      9996\n",
      "     macro avg       0.34      0.34      0.33      9996\n",
      "  weighted avg       0.34      0.34      0.33      9996\n",
      "\n"
     ]
    }
   ],
   "source": [
    "for name, model in trained_models.items():\n",
    "    y_pred = model.predict(X_test)\n",
    "    print(f\"Performance metrics for {name}:\\n\")\n",
    "    print(classification_report(y_test, y_pred))"
   ]
  },
  {
   "cell_type": "markdown",
   "metadata": {},
   "source": [
    "Step 9: Perform Hyperparameter Tuning (example with Random Forest)"
   ]
  },
  {
   "cell_type": "code",
   "execution_count": 16,
   "metadata": {},
   "outputs": [
    {
     "name": "stdout",
     "output_type": "stream",
     "text": [
      "Best hyperparameters for Random Forest: {'max_depth': 10, 'n_estimators': 50}\n"
     ]
    }
   ],
   "source": [
    "param_grid = {\n",
    "    'n_estimators': [10, 50, 100],\n",
    "    'max_depth': [None, 10, 20, 30]\n",
    "}\n",
    "grid_search = GridSearchCV(RandomForestClassifier(), param_grid, cv=5)\n",
    "grid_search.fit(X_train, y_train)\n",
    "best_rf_model = grid_search.best_estimator_\n",
    "print(\"Best hyperparameters for Random Forest:\", grid_search.best_params_)\n"
   ]
  },
  {
   "cell_type": "markdown",
   "metadata": {},
   "source": [
    "Step 10: Iterate through steps 3-9 if needed (assume we are satisfied with tuning)\n",
    "\n",
    "Step 11: Choose the Model with Optimum Performance"
   ]
  },
  {
   "cell_type": "code",
   "execution_count": 18,
   "metadata": {},
   "outputs": [
    {
     "name": "stdout",
     "output_type": "stream",
     "text": [
      "Best model selected: Random Forest with hyperparameter tuning.\n"
     ]
    }
   ],
   "source": [
    "best_model = best_rf_model\n",
    "print(\"Best model selected: Random Forest with hyperparameter tuning.\")"
   ]
  },
  {
   "cell_type": "markdown",
   "metadata": {},
   "source": [
    "Define prediction function"
   ]
  },
  {
   "cell_type": "code",
   "execution_count": 19,
   "metadata": {},
   "outputs": [],
   "source": [
    "# # Define prediction function\n",
    "# def predict_specialization(student_name, student_id, year, iot, ctsd, ds, oops, dti, coa, dbms, pfsd, mpc, ase, os):\n",
    "#     # Prepare input data in the correct format\n",
    "#     input_data = pd.DataFrame({\n",
    "#         'Year': [year],\n",
    "#         'IOT': [iot],\n",
    "#         'CTSD': [ctsd],\n",
    "#         'DS': [ds],\n",
    "#         'OOPS': [oops],\n",
    "#         'DTI': [dti],\n",
    "#         'COA': [coa],\n",
    "#         'DBMS': [dbms],\n",
    "#         'PFSD': [pfsd],\n",
    "#         'MPC': [mpc],\n",
    "#         'ASE': [ase],\n",
    "#         'OS': [os]\n",
    "#     })\n",
    "\n",
    "#     # Impute any missing values in the input data\n",
    "#     imputer = SimpleImputer(strategy=\"mean\")  \n",
    "#     input_data = pd.DataFrame(imputer.fit_transform(input_data), columns=input_data.columns)\n",
    "\n",
    "#     # Predict specialization\n",
    "#     prediction = best_model.predict(input_data)\n",
    "#     return prediction[0]\n",
    "\n",
    "# # Example usage\n",
    "# predicted_specialization = predict_specialization(\"shashi\", 1, 10, 4, 9, 9, 6, 7, 5, 6, 9, 7, 5, 9)\n",
    "# print(f\"Predicted Specialization: {predicted_specialization}\")\n"
   ]
  },
  {
   "cell_type": "code",
   "execution_count": 20,
   "metadata": {},
   "outputs": [
    {
     "ename": "ValueError",
     "evalue": "could not convert string to float: ''",
     "output_type": "error",
     "traceback": [
      "\u001b[0;31m---------------------------------------------------------------------------\u001b[0m",
      "\u001b[0;31mValueError\u001b[0m                                Traceback (most recent call last)",
      "Cell \u001b[0;32mIn[20], line 37\u001b[0m\n\u001b[1;32m     35\u001b[0m ctsd \u001b[38;5;241m=\u001b[39m \u001b[38;5;28mfloat\u001b[39m(\u001b[38;5;28minput\u001b[39m(\u001b[38;5;124m\"\u001b[39m\u001b[38;5;124mEnter CTSD score: \u001b[39m\u001b[38;5;124m\"\u001b[39m))\n\u001b[1;32m     36\u001b[0m ds \u001b[38;5;241m=\u001b[39m \u001b[38;5;28mfloat\u001b[39m(\u001b[38;5;28minput\u001b[39m(\u001b[38;5;124m\"\u001b[39m\u001b[38;5;124mEnter DS score: \u001b[39m\u001b[38;5;124m\"\u001b[39m))\n\u001b[0;32m---> 37\u001b[0m oops \u001b[38;5;241m=\u001b[39m \u001b[38;5;28mfloat\u001b[39m(\u001b[38;5;28minput\u001b[39m(\u001b[38;5;124m\"\u001b[39m\u001b[38;5;124mEnter OOPS score: \u001b[39m\u001b[38;5;124m\"\u001b[39m))\n\u001b[1;32m     38\u001b[0m dti \u001b[38;5;241m=\u001b[39m \u001b[38;5;28mfloat\u001b[39m(\u001b[38;5;28minput\u001b[39m(\u001b[38;5;124m\"\u001b[39m\u001b[38;5;124mEnter DTI score: \u001b[39m\u001b[38;5;124m\"\u001b[39m))\n\u001b[1;32m     39\u001b[0m coa \u001b[38;5;241m=\u001b[39m \u001b[38;5;28mfloat\u001b[39m(\u001b[38;5;28minput\u001b[39m(\u001b[38;5;124m\"\u001b[39m\u001b[38;5;124mEnter COA score: \u001b[39m\u001b[38;5;124m\"\u001b[39m))\n",
      "\u001b[0;31mValueError\u001b[0m: could not convert string to float: ''"
     ]
    }
   ],
   "source": [
    "import pandas as pd\n",
    "from sklearn.impute import SimpleImputer\n",
    "\n",
    "# Define prediction function\n",
    "def predict_specialization(student_name, student_id, year, iot, ctsd, ds, oops, dti, coa, dbms, pfsd, mpc, ase, os):\n",
    "    # Prepare input data in the correct format\n",
    "    input_data = pd.DataFrame({\n",
    "        'Year': [year],\n",
    "        'IOT': [iot],\n",
    "        'CTSD': [ctsd],\n",
    "        'DS': [ds],\n",
    "        'OOPS': [oops],\n",
    "        'DTI': [dti],\n",
    "        'COA': [coa],\n",
    "        'DBMS': [dbms],\n",
    "        'PFSD': [pfsd],\n",
    "        'MPC': [mpc],\n",
    "        'ASE': [ase],\n",
    "        'OS': [os]\n",
    "    })\n",
    "\n",
    "    # Impute any missing values in the input data\n",
    "    imputer = SimpleImputer(strategy=\"mean\")\n",
    "    input_data = pd.DataFrame(imputer.fit_transform(input_data), columns=input_data.columns)\n",
    "\n",
    "    # Predict specialization\n",
    "    prediction = best_model.predict(input_data)\n",
    "    return prediction[0]\n",
    "\n",
    "# Collect inputs from the user\n",
    "student_name = input(\"Enter Student Name: \")\n",
    "student_id = int(input(\"Enter Student ID: \"))\n",
    "year = int(input(\"Enter Year: \"))\n",
    "iot = float(input(\"Enter IOT score: \"))\n",
    "ctsd = float(input(\"Enter CTSD score: \"))\n",
    "ds = float(input(\"Enter DS score: \"))\n",
    "oops = float(input(\"Enter OOPS score: \"))\n",
    "dti = float(input(\"Enter DTI score: \"))\n",
    "coa = float(input(\"Enter COA score: \"))\n",
    "dbms = float(input(\"Enter DBMS score: \"))\n",
    "pfsd = float(input(\"Enter PFSD score: \"))\n",
    "mpc = float(input(\"Enter MPC score: \"))\n",
    "ase = float(input(\"Enter ASE score: \"))\n",
    "os = float(input(\"Enter OS score: \"))\n",
    "\n",
    "# Make prediction\n",
    "predicted_specialization = predict_specialization(student_name, student_id, year, iot, ctsd, ds, oops, dti, coa, dbms, pfsd, mpc, ase, os)\n",
    "print(f\"Student {student_name} (ID: {student_id}) is predicted to specialize in {predicted_specialization}.\")\n",
    "\n"
   ]
  },
  {
   "cell_type": "code",
   "execution_count": null,
   "metadata": {},
   "outputs": [],
   "source": []
  }
 ],
 "metadata": {
  "kernelspec": {
   "display_name": "base",
   "language": "python",
   "name": "python3"
  },
  "language_info": {
   "codemirror_mode": {
    "name": "ipython",
    "version": 3
   },
   "file_extension": ".py",
   "mimetype": "text/x-python",
   "name": "python",
   "nbconvert_exporter": "python",
   "pygments_lexer": "ipython3",
   "version": "3.12.4"
  }
 },
 "nbformat": 4,
 "nbformat_minor": 2
}
